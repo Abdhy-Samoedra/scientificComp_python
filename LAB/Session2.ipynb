{
 "cells": [
  {
   "attachments": {},
   "cell_type": "markdown",
   "metadata": {},
   "source": [
    "\n",
    "SYSTEM OF LINEAR EQUATIONS\n",
    "\n",
    "2X + 3Y = 22\n",
    "\n",
    "WITH GAUSS SEIDEL METHOD\n",
    "\n",
    "STEP 1 : CEK/TENTUKAN/BUAT MENJADI DIAGONALLY DOMINANCE DULU"
   ]
  },
  {
   "cell_type": "code",
   "execution_count": 1,
   "metadata": {},
   "outputs": [],
   "source": [
    "import numpy as np"
   ]
  },
  {
   "cell_type": "markdown",
   "metadata": {},
   "source": [
    "1 PERSAMAAN LINEAR"
   ]
  },
  {
   "cell_type": "code",
   "execution_count": 47,
   "metadata": {},
   "outputs": [
    {
     "name": "stdout",
     "output_type": "stream",
     "text": [
      "[ 6  7 15]\n",
      "[11 12 27]\n",
      "[ 5  5 12]\n",
      "True\n"
     ]
    }
   ],
   "source": [
    "a = [[6, 3, 2],\n",
    "    [2, 7, 3],\n",
    "    [7, 5, 15]]\n",
    "# cek duklu apakah diagonally dominance, lalu ambil diagonalnya\n",
    "print(np.diag(a))\n",
    "# axis 1 agar jumlahin perbaris, kalau perkolom axis = 0\n",
    "# jumlahin perbaris dari a\n",
    "print(np.sum(np.abs(a),axis=1))\n",
    "# nentunin dengan mengurangi diagonal dengan jumlah perbarisnya\n",
    "print(np.sum(np.abs(a),axis=1) - (np.diag(a)))\n",
    "\n",
    "\n",
    "def checkDiagonallyDominance(a):\n",
    "    diag = np.diag(a)\n",
    "    sumWithDiag = np.sum(np.abs(a),axis=1)\n",
    "    sumWithoutDiag = sumWithDiag - diag\n",
    "\n",
    "    if np.all(diag > sumWithoutDiag):\n",
    "        print(\"True\")\n",
    "    else:\n",
    "        print(\"false\")\n",
    "\n",
    "\n",
    "\n",
    "checkDiagonallyDominance(a)"
   ]
  },
  {
   "cell_type": "code",
   "execution_count": 48,
   "metadata": {},
   "outputs": [
    {
     "name": "stdout",
     "output_type": "stream",
     "text": [
      "Solution Found\n"
     ]
    }
   ],
   "source": [
    "a= 0\n",
    "b = 0\n",
    "c= 0\n",
    "epsilon = 0.1\n",
    "limit = 15\n",
    "isCompleted = False\n",
    "\n",
    "oldValue = np.array([a,b,c])\n",
    "\n",
    "for i in range(1,limit):\n",
    "    a  = (15 -3*b -2*c)/6\n",
    "    b= (6 - 2*a - 3*c)/7\n",
    "    c = (12 - 7*a - 5*b)/15\n",
    "    newValue = np.array([a,b,c])\n",
    "    distance = np.sqrt(np.dot(newValue-oldValue, newValue-oldValue))\n",
    "\n",
    "    if distance < epsilon:\n",
    "        print(\"Solution Found\")\n",
    "        isCompleted = True\n",
    "        break\n",
    "\n",
    "    oldValue = newValue\n",
    "\n",
    "if isCompleted == False:\n",
    "    print(\"No Solution\")"
   ]
  },
  {
   "attachments": {},
   "cell_type": "markdown",
   "metadata": {},
   "source": [
    "LEBIH DARI 1 SISTEM PERSAMAAN\n"
   ]
  },
  {
   "cell_type": "code",
   "execution_count": 2,
   "metadata": {},
   "outputs": [],
   "source": [
    "# ini persamaannya\n",
    "CaseX = [\n",
    "  [\n",
    "    [-3,9,-6],\n",
    "    [7,-2,-3],\n",
    "    [4,1,-4]\n",
    "  ],\n",
    "  [\n",
    "    [1, 3, -3, 9],\n",
    "    [2, -9,3, -3],\n",
    "    [-1, 3, 15, -1],\n",
    "   [21, 4, -1, 10]\n",
    "  ],\n",
    "  [\n",
    "    [4,2,-1],\n",
    "    [1,3,-1],\n",
    "    [5,2,10]\n",
    "  ],\n",
    "  [\n",
    "    [-7,2,-4],\n",
    "    [-1,-19,-13],\n",
    "    [-3,3,-19]\n",
    "  ],\n",
    "  [\n",
    "    [-12, 1, -4, 6],\n",
    "    [-3, 8,-3, 2],\n",
    "    [3, 3, 10, -3],\n",
    "    [3, -2, 3, 12]\n",
    "  ],\n",
    "  [\n",
    "    [2,1,-1],\n",
    "    [-2,5,-3],\n",
    "    [-1,-6,-9]\n",
    "  ]\n",
    "]\n",
    "\n",
    "# ini hasilnya dari persamaan diatas, seperti augmented matrix \n",
    "CaseY=[\n",
    "   [0, -6, 5],\n",
    "   [12, 9, -6, 11],\n",
    "   [19, 12, 5],\n",
    "   [8, 3, 5],\n",
    "   [3, 6, 9, 21],\n",
    "   [3, 9, 12]\n",
    "]"
   ]
  },
  {
   "cell_type": "code",
   "execution_count": 3,
   "metadata": {},
   "outputs": [],
   "source": [
    "def gaussSeidel(x,y,epsilon,limit):\n",
    "    x = np.array(x)\n",
    "    y = np.array(y)\n",
    "\n",
    "    # cek apakah diagonally dominannce\n",
    "    diag = np.diag(x)\n",
    "    sumWithDiag = np.sum(np.abs(x),axis=1)\n",
    "    sumWithoutDiag = sumWithDiag - diag\n",
    "\n",
    "    if (np.all(diag > sumWithoutDiag)):\n",
    "        print(\"True\")\n",
    "    else:\n",
    "        print(\"false\")\n",
    "        return False\n",
    "    \n",
    "    # untuk ngambil doagonalnya\n",
    "    diagonal = np.diag(x)\n",
    "    # pindah ruas\n",
    "    x = -x\n",
    "    # hilangin diagonal dengan mengisi dengan 0\n",
    "    np.fill_diagonal(x,0)\n",
    "\n",
    "    # untuk mendapatkan jumlah elemen pada x index 0\n",
    "    oldValue = np.zeros(x.shape[0])\n",
    "\n",
    "    for i in range(limit):\n",
    "        newValue = oldValue\n",
    "        # iterasi sebanyak elemen didalam x\n",
    "        for j, row in enumerate(x):\n",
    "            newValue[j] = (y[j] + np.dot(row, newValue))/diagonal[j]\n",
    "        \n",
    "        newValue = np.array(newValue)\n",
    "        distance = np.sqrt(np.dot(newValue-oldValue,newValue-oldValue))\n",
    "\n",
    "        if distance < epsilon:\n",
    "            print(\"Solution Found\")\n",
    "            return True\n",
    "\n",
    "        oldValue = newValue\n",
    "    \n",
    "    return False    "
   ]
  },
  {
   "cell_type": "code",
   "execution_count": 4,
   "metadata": {},
   "outputs": [
    {
     "name": "stdout",
     "output_type": "stream",
     "text": [
      "false\n",
      "Solution not Found\n",
      "false\n",
      "Solution not Found\n",
      "True\n",
      "Solution Found\n",
      "Solution Found\n",
      "false\n",
      "Solution not Found\n",
      "false\n",
      "Solution not Found\n",
      "false\n",
      "Solution not Found\n"
     ]
    }
   ],
   "source": [
    "for i, (x,y) in enumerate(zip(CaseX,CaseY)):\n",
    "    if gaussSeidel(x,y,0.01,15):\n",
    "        print(\"Solution Found\")\n",
    "    else:\n",
    "        print(\"Solution not Found\")"
   ]
  }
 ],
 "metadata": {
  "kernelspec": {
   "display_name": "base",
   "language": "python",
   "name": "python3"
  },
  "language_info": {
   "codemirror_mode": {
    "name": "ipython",
    "version": 3
   },
   "file_extension": ".py",
   "mimetype": "text/x-python",
   "name": "python",
   "nbconvert_exporter": "python",
   "pygments_lexer": "ipython3",
   "version": "3.9.13"
  },
  "orig_nbformat": 4,
  "vscode": {
   "interpreter": {
    "hash": "ef3d9bf360ed0cdd1f74dde7c10b1bf3c7e2e2c99133ad6d033c72cf575fdf12"
   }
  }
 },
 "nbformat": 4,
 "nbformat_minor": 2
}
