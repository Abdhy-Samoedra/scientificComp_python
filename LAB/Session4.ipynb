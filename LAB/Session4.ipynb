{
 "cells": [
  {
   "cell_type": "code",
   "execution_count": 1,
   "metadata": {},
   "outputs": [],
   "source": [
    "import numpy as np"
   ]
  },
  {
   "attachments": {},
   "cell_type": "markdown",
   "metadata": {},
   "source": [
    "BISECTION METHOD"
   ]
  },
  {
   "cell_type": "code",
   "execution_count": 2,
   "metadata": {},
   "outputs": [],
   "source": [
    "def bisection(f, a, b, tolerance):\n",
    "    #cek apakah tabda dari f(a) = tanda darif(b)\n",
    "    #np.sign() -> (nehatif), 0 , 1 (positif)\n",
    "    if np.sign(f(a)) == np.sign(f(b)):\n",
    "        print('No answer')\n",
    "        return\n",
    "\n",
    "    mid = (a+b)/2\n",
    "\n",
    "    #apakah f(mid) > Tolerance\n",
    "    #apakah tanda dari f(mid) == tanda f(a) atau f(b)\n",
    "\n",
    "    if np.abs(f(mid)) < tolerance:\n",
    "     return mid\n",
    "    elif np.sign (f(a)) == np.sign (f(mid)):\n",
    "      #root value ada diantara mid dan b\n",
    "       return bisection(f,mid,b,tolerance)\n",
    "    elif np.sign (f(b)) == np.sign (f(mid)):\n",
    "        #root value ada diantara a dan mid\n",
    "        return bisection(f,a,mid,tolerance)"
   ]
  },
  {
   "cell_type": "code",
   "execution_count": 3,
   "metadata": {},
   "outputs": [
    {
     "name": "stdout",
     "output_type": "stream",
     "text": [
      "-3.0\n"
     ]
    }
   ],
   "source": [
    "# def f(x):\n",
    "#     return x**2-3\n",
    "# let x = (x)=>{\n",
    "#     return x*x-3\n",
    "# }\n",
    "f = lambda x : x**3-1.2*x**2 - 8.19*x + 13.23\n",
    "a =  -4\n",
    "b = 0\n",
    "tolerance = 0.01\n",
    "print(bisection(f,a,b,tolerance))"
   ]
  },
  {
   "attachments": {},
   "cell_type": "markdown",
   "metadata": {},
   "source": [
    "NEWTON RHAPSON METHOD"
   ]
  },
  {
   "cell_type": "code",
   "execution_count": 39,
   "metadata": {},
   "outputs": [],
   "source": [
    "\n",
    "def newton_raphson(f,df,x0,tolerance,max):\n",
    "    if max <= 0:\n",
    "        print('no answer')\n",
    "        return\n",
    "    #apakah f(x0) itu root value(jawabbnya) atau bukan\n",
    "    if np.abs(f(x0)) < tolerance:\n",
    "        return x0\n",
    "    else:\n",
    "        x1 = x0 - (f(x0)/df(x0))\n",
    "        return newton_raphson(f,df,x1,tolerance,max-1)"
   ]
  },
  {
   "cell_type": "code",
   "execution_count": 46,
   "metadata": {},
   "outputs": [
    {
     "name": "stdout",
     "output_type": "stream",
     "text": [
      "2.096724716926872\n"
     ]
    }
   ],
   "source": [
    "f = lambda x : x**3-1.2*x**2-8.19*x+13.23\n",
    "df = lambda x : 3*x**2-2.4*x-8.19\n",
    "x0 = 1\n",
    "tolerance = 0.0001\n",
    "max = 9\n",
    "print(newton_raphson(f,df,x0,tolerance,max))"
   ]
  }
 ],
 "metadata": {
  "kernelspec": {
   "display_name": "base",
   "language": "python",
   "name": "python3"
  },
  "language_info": {
   "codemirror_mode": {
    "name": "ipython",
    "version": 3
   },
   "file_extension": ".py",
   "mimetype": "text/x-python",
   "name": "python",
   "nbconvert_exporter": "python",
   "pygments_lexer": "ipython3",
   "version": "3.9.13"
  },
  "orig_nbformat": 4,
  "vscode": {
   "interpreter": {
    "hash": "ef3d9bf360ed0cdd1f74dde7c10b1bf3c7e2e2c99133ad6d033c72cf575fdf12"
   }
  }
 },
 "nbformat": 4,
 "nbformat_minor": 2
}
