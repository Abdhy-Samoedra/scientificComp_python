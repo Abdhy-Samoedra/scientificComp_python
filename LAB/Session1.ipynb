{
 "cells": [
  {
   "attachments": {},
   "cell_type": "markdown",
   "metadata": {},
   "source": [
    "# Session 1 / Introduction"
   ]
  },
  {
   "attachments": {},
   "cell_type": "markdown",
   "metadata": {},
   "source": [
    "Print out\n"
   ]
  },
  {
   "cell_type": "code",
   "execution_count": 5,
   "metadata": {},
   "outputs": [],
   "source": [
    "import numpy as np"
   ]
  },
  {
   "cell_type": "code",
   "execution_count": 4,
   "metadata": {},
   "outputs": [
    {
     "name": "stdout",
     "output_type": "stream",
     "text": [
      "hello world tidak ada enter\n",
      "ada\n",
      "enter\n",
      "nama saya abdhy samoedra\n",
      "nama saya : abdhy samoedra, umur :10\n"
     ]
    }
   ],
   "source": [
    "print(\"hello world\" , end=\" \")\n",
    "print(\"tidak ada enter\")\n",
    "\n",
    "print(\"ada\")\n",
    "print(\"enter\")\n",
    "\n",
    "name = \"abdhy\"\n",
    "name2 = \"samoedra\"\n",
    "print(\"nama saya \"+name+\" \"+name2)\n",
    "\n",
    "umur = 10\n",
    "print(f\"nama saya : {name+name2}, umur :{umur}\")\n"
   ]
  },
  {
   "attachments": {},
   "cell_type": "markdown",
   "metadata": {},
   "source": [
    "Operator\n"
   ]
  },
  {
   "cell_type": "code",
   "execution_count": 5,
   "metadata": {},
   "outputs": [
    {
     "name": "stdout",
     "output_type": "stream",
     "text": [
      "1\n",
      "1.67\n",
      "1\n"
     ]
    }
   ],
   "source": [
    "# ga ada -- dan ++ diganti dengan += dan -=\n",
    "# ** pangkat, // pangkat bagi\n",
    "\n",
    "a = 10\n",
    "b = 11\n",
    "print(b//a)\n",
    "print(format(5/3,\".2f\"))\n",
    "print(4%3)"
   ]
  },
  {
   "attachments": {},
   "cell_type": "markdown",
   "metadata": {},
   "source": [
    "Condition\n"
   ]
  },
  {
   "cell_type": "code",
   "execution_count": 87,
   "metadata": {},
   "outputs": [
    {
     "name": "stdout",
     "output_type": "stream",
     "text": [
      "a == b\n",
      "that is a condition\n"
     ]
    }
   ],
   "source": [
    "a = 29\n",
    "b = 29\n",
    "\n",
    "if(a<b):\n",
    "    print(\"a lebih kecil\")\n",
    "elif(a>b):\n",
    "    print(\"a lebih besar\")\n",
    "else:\n",
    "    print(\"a == b\")\n",
    "\n",
    "print(\"that is a condition\")"
   ]
  },
  {
   "cell_type": "markdown",
   "metadata": {},
   "source": [
    "Repetition"
   ]
  },
  {
   "cell_type": "code",
   "execution_count": 2,
   "metadata": {},
   "outputs": [
    {
     "name": "stdout",
     "output_type": "stream",
     "text": [
      "1\n",
      "2\n",
      "3\n",
      "4\n",
      "5\n",
      "6\n",
      "7\n",
      "8\n",
      "9\n",
      "10\n",
      "11\n",
      "12\n",
      "13\n",
      "14\n",
      "15\n",
      "16\n",
      "17\n",
      "18\n"
     ]
    }
   ],
   "source": [
    "# common repitition\n",
    "for i in range(1,19):\n",
    "    print(i)\n",
    "\n",
    "# for i in range(1,19):\n",
    "#     print(i+9)\n",
    "\n",
    "# # perulangan dengan pola 2\n",
    "# for j in range(1,20,2):\n",
    "#     print(j)\n",
    "\n",
    "# while\n",
    "# number = 11\n",
    "# while number >2:\n",
    "#     print(number, end=\" \")\n",
    "#     number-=1\n"
   ]
  },
  {
   "attachments": {},
   "cell_type": "markdown",
   "metadata": {},
   "source": [
    "Function"
   ]
  },
  {
   "cell_type": "code",
   "execution_count": 8,
   "metadata": {},
   "outputs": [
    {
     "name": "stdout",
     "output_type": "stream",
     "text": [
      "kalkulator\n",
      "plus:9,minus:3,kali:18,bagi:2.0,sisa bagi : 0\n"
     ]
    }
   ],
   "source": [
    "def kalkulator(a,b):\n",
    "    print(\"kalkulator\")\n",
    "    pertambahan = a+b\n",
    "    pengurangan = a-b\n",
    "    pembagian = a/b\n",
    "    perkalian = a*b\n",
    "    modulo = a%b\n",
    "    \n",
    "    # pada pyhton bisa return lebih dari 1 value\n",
    "    # return value nya urut dengan inisialisasi varibel pemanggil\n",
    "    return pertambahan,pengurangan,pembagian,perkalian,modulo\n",
    "\n",
    "plus,minus,bagi,kali,sisa = kalkulator(6,3)\n",
    "print(f\"plus:{plus},minus:{minus},kali:{kali},bagi:{bagi},sisa bagi : {sisa}\")"
   ]
  },
  {
   "attachments": {},
   "cell_type": "markdown",
   "metadata": {},
   "source": [
    "Numpy (matrix,dll)"
   ]
  },
  {
   "cell_type": "code",
   "execution_count": 9,
   "metadata": {},
   "outputs": [
    {
     "name": "stdout",
     "output_type": "stream",
     "text": [
      "[1, 2, 3, 4, 5, 6, 7, 8, 9]\n",
      "[[1, 2], [3, 4], [4, 5], [8, 9]]\n",
      "[[ 5  7]\n",
      " [11 13]]\n",
      "9\n"
     ]
    }
   ],
   "source": [
    "# import numpy as np\n",
    "\n",
    "listAngka = [1,2,3,4,5,6,7,8,9]\n",
    "print(listAngka)\n",
    "\n",
    "# inisialisasi matrix\n",
    "arr1 = [[1,2],\n",
    "        [3,4]]\n",
    "arr2 = [[4,5],\n",
    "        [8,9]]\n",
    "#syntax agar dikonversi dan terbaca menjadi matrix, dimasukkan kedalam variabel matrix1 dan 2\n",
    "matrix1 = np.array(arr1)\n",
    "matrix2 = np.array(arr2)\n",
    "\n",
    "print(arr1+arr2)\n",
    "\n",
    "# print pertambahan matrix\n",
    "print(matrix1+matrix2)\n",
    "\n",
    "# dalam file ini semua seperti variabel global\n",
    "print(plus)\n"
   ]
  }
 ],
 "metadata": {
  "kernelspec": {
   "display_name": "base",
   "language": "python",
   "name": "python3"
  },
  "language_info": {
   "codemirror_mode": {
    "name": "ipython",
    "version": 3
   },
   "file_extension": ".py",
   "mimetype": "text/x-python",
   "name": "python",
   "nbconvert_exporter": "python",
   "pygments_lexer": "ipython3",
   "version": "3.9.13"
  },
  "orig_nbformat": 4,
  "vscode": {
   "interpreter": {
    "hash": "ef3d9bf360ed0cdd1f74dde7c10b1bf3c7e2e2c99133ad6d033c72cf575fdf12"
   }
  }
 },
 "nbformat": 4,
 "nbformat_minor": 2
}
