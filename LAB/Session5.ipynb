{
 "cells": [
  {
   "cell_type": "code",
   "execution_count": 1,
   "metadata": {},
   "outputs": [],
   "source": [
    "import numpy as np"
   ]
  },
  {
   "cell_type": "code",
   "execution_count": 4,
   "metadata": {},
   "outputs": [],
   "source": [
    "def f(x):\n",
    "    return 6*x**2-4*x+2"
   ]
  },
  {
   "cell_type": "code",
   "execution_count": 15,
   "metadata": {},
   "outputs": [
    {
     "name": "stdout",
     "output_type": "stream",
     "text": [
      "leftRiemann:  27.439999999999998\n",
      "leftRiemann:  27.439999999999998\n",
      "rightRiemann:  32.64\n",
      "rightRiemann:  32.64\n",
      "midRiemann:  29.980000000000004\n",
      "midRiemann:  29.980000000000004\n",
      "trapezoid:  30.04\n"
     ]
    }
   ],
   "source": [
    "a = 2\n",
    "b = 3\n",
    "n = 6\n",
    "boxWidth = (b-a)/(n-1)\n",
    "\n",
    "x=np.linspace(a,b,n)\n",
    "\n",
    "#left riemnann sum\n",
    "xLeft = x[:-1]\n",
    "yLeft = f(xLeft)\n",
    "\n",
    "leftRiemannSum = boxWidth * np.sum(yleft)\n",
    "print(\"leftRiemann: \",leftRiemannSum)\n",
    "\n",
    "leftRiemannSum = boxWidth * np.sum(np.abs(yleft))\n",
    "print(\"leftRiemann: \",leftRiemannSum)\n",
    "\n",
    "#rigth riemnann sum\n",
    "xRight = x[1:]\n",
    "yRight = f(xRight)\n",
    "rightRiemannSum = boxWidth * np.sum(yRight)\n",
    "print(\"rightRiemann: \",rightRiemannSum)\n",
    "\n",
    "rightRiemannSum = boxWidth * np.sum(np.abs(yRight))\n",
    "print(\"rightRiemann: \",rightRiemannSum)\n",
    "\n",
    "#mid riemnann sum\n",
    "xMid = (xLeft+xRight)/2\n",
    "yMid = f(xMid)\n",
    "midRiemannSum = boxWidth * np.sum(yMid)\n",
    "print(\"midRiemann: \",midRiemannSum)\n",
    "midRiemannSum = boxWidth * np.sum(np.abs(yMid))\n",
    "print(\"midRiemann: \",midRiemannSum)\n",
    "\n",
    "#trpaizoid riemnann sum\n",
    "trapezoid = np.sum(np.abs(yLeft) + np.abs(yRight))/2 * boxWidth\n",
    "print(\"trapezoid: \",trapezoid)"
   ]
  }
 ],
 "metadata": {
  "kernelspec": {
   "display_name": "base",
   "language": "python",
   "name": "python3"
  },
  "language_info": {
   "codemirror_mode": {
    "name": "ipython",
    "version": 3
   },
   "file_extension": ".py",
   "mimetype": "text/x-python",
   "name": "python",
   "nbconvert_exporter": "python",
   "pygments_lexer": "ipython3",
   "version": "3.9.13"
  },
  "orig_nbformat": 4
 },
 "nbformat": 4,
 "nbformat_minor": 2
}
