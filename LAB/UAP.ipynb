{
 "cells": [
  {
   "attachments": {},
   "cell_type": "markdown",
   "metadata": {},
   "source": [
    "1. Gauss Seidel\n",
    "2. Least Square Regression\n",
    "3. Newton Rhapson\n",
    "4. Riemann"
   ]
  },
  {
   "cell_type": "code",
   "execution_count": 1,
   "metadata": {},
   "outputs": [],
   "source": [
    "import numpy as np"
   ]
  },
  {
   "cell_type": "code",
   "execution_count": 16,
   "metadata": {},
   "outputs": [
    {
     "name": "stdout",
     "output_type": "stream",
     "text": [
      "Equation 1 array X\n",
      "Diagonal 1 = {10}\n",
      "Total Not Diagonal Value = |2| + |-6| = 8\n",
      "10 > 8\n",
      "Diagonal 2 = {4}\n",
      "Total Not Diagonal Value = + |-1| + |2| = 3\n",
      "4 > 3\n",
      "Diagonal 3 = {6}\n",
      "Total Not Diagonal Value = + |2| + |3| = 5\n",
      "6 > 5\n",
      "Diagonally Dominance\n",
      "\n",
      "\n",
      "Equation 2 array X\n",
      "Diagonal 1 = {5}\n",
      "Total Not Diagonal Value = |2| + |-8| = 10\n",
      "5 < 10\n",
      "Not Diagonally Dominance\n",
      "\n",
      "\n",
      "Equation 3 array X\n",
      "Diagonal 1 = {10}\n",
      "Total Not Diagonal Value = |-5| + |3| + |0| = 8\n",
      "10 > 8\n",
      "Diagonal 2 = {9}\n",
      "Total Not Diagonal Value = + |3| + |2| + |-2| = 7\n",
      "9 > 7\n",
      "Diagonal 3 = {17}\n",
      "Total Not Diagonal Value = + |-8| + |0| + |-4| = 12\n",
      "17 > 12\n",
      "Diagonal 4 = {15}\n",
      "Total Not Diagonal Value = + |3| + |-3| + |-8| = 14\n",
      "15 > 14\n",
      "Diagonally Dominance\n",
      "\n",
      "\n"
     ]
    }
   ],
   "source": [
    "mX = [\n",
    "        [\n",
    "            [10, 2, -6],\n",
    "            [-1, 4, 2],\n",
    "            [2, 3, 6]\n",
    "        ],\n",
    "        [\n",
    "            [-5, 2, -8],\n",
    "            [4, -3, -9],\n",
    "            [-8, -10, 9]\n",
    "        ],\n",
    "        [\n",
    "            [10, -5, 3, 0],\n",
    "            [3, -9, 2, -2],\n",
    "            [-8, 0, 17, -4],\n",
    "            [3, -3, -8, -15]\n",
    "        ],\n",
    "]\n",
    "\n",
    "def checkDiagonallyDominance(x):\n",
    "    x = np.array(x)\n",
    "    diagonal = np.diag(np.abs(x))\n",
    "    sumwithoutdiagonal = np.sum(np.abs(x), axis=1) - diagonal\n",
    "\n",
    "    printed = 0\n",
    "\n",
    "    for i in range(len(x)):\n",
    "        print(f\"Diagonal {i+1} =\", {diagonal[i]})\n",
    "        print(\"Total Not Diagonal Value =\",end=\" \")\n",
    "        for j, el in enumerate(x[i]):\n",
    "            if j != i:\n",
    "                if printed != 0:\n",
    "                    print(\"+\", end=\" \")\n",
    "                print(f\"|{el}|\", end=\" \")\n",
    "                printed += 1\n",
    "        print(f\"= {sumwithoutdiagonal[i]}\")\n",
    "\n",
    "        if diagonal[i] > sumwithoutdiagonal[i]:\n",
    "            print(f\"{diagonal[i]} > {sumwithoutdiagonal[i]}\")\n",
    "        else :\n",
    "            print(f\"{diagonal[i]} < {sumwithoutdiagonal[i]}\")\n",
    "            return False\n",
    "    return True\n",
    "\n",
    "for i, x in enumerate(mX):\n",
    "    print(f\"Equation {i+1} array X\")\n",
    "    if checkDiagonallyDominance(x):\n",
    "        print(\"Diagonally Dominance\")\n",
    "    else:\n",
    "        print(\"Not Diagonally Dominance\")\n",
    "    print()\n",
    "    print()"
   ]
  }
 ],
 "metadata": {
  "kernelspec": {
   "display_name": "base",
   "language": "python",
   "name": "python3"
  },
  "language_info": {
   "codemirror_mode": {
    "name": "ipython",
    "version": 3
   },
   "file_extension": ".py",
   "mimetype": "text/x-python",
   "name": "python",
   "nbconvert_exporter": "python",
   "pygments_lexer": "ipython3",
   "version": "3.9.13"
  },
  "orig_nbformat": 4
 },
 "nbformat": 4,
 "nbformat_minor": 2
}
