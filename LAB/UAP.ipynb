{
 "cells": [
  {
   "attachments": {},
   "cell_type": "markdown",
   "metadata": {},
   "source": [
    "1. Gauss Seidel\n",
    "2. Least Square Regression\n",
    "3. Newton Rhapson\n",
    "4. Riemann"
   ]
  },
  {
   "cell_type": "code",
   "execution_count": 2,
   "metadata": {},
   "outputs": [],
   "source": [
    "import numpy as np\n",
    "import matplotlib.pyplot as plt"
   ]
  },
  {
   "attachments": {},
   "cell_type": "markdown",
   "metadata": {},
   "source": [
    "Latihan Soal UAP\n"
   ]
  },
  {
   "attachments": {},
   "cell_type": "markdown",
   "metadata": {},
   "source": [
    "no 1\n"
   ]
  },
  {
   "cell_type": "code",
   "execution_count": 5,
   "metadata": {},
   "outputs": [
    {
     "name": "stdout",
     "output_type": "stream",
     "text": [
      "Equation 1 array X\n",
      "Diagonally Dominance\n",
      "\n",
      "\n",
      "Equation 2 array X\n",
      "Not Diagonally Dominance\n",
      "\n",
      "\n",
      "Equation 3 array X\n",
      "Diagonally Dominance\n",
      "\n",
      "\n"
     ]
    }
   ],
   "source": [
    "mX = [\n",
    "        [\n",
    "            [10, 2, -6],\n",
    "            [-1, 4, 2],\n",
    "            [2, 3, 6]\n",
    "        ],\n",
    "        [\n",
    "            [-5, 2, -8],\n",
    "            [4, -3, -9],\n",
    "            [-8, -10, 9]\n",
    "        ],\n",
    "        [\n",
    "            [10, -5, 3, 0],\n",
    "            [3, -9, 2, -2],\n",
    "            [-8, 0, 17, -4],\n",
    "            [3, -3, -8, -15]\n",
    "        ],\n",
    "]\n",
    "\n",
    "mY = [\n",
    "    [17, -4, -12],\n",
    "    [13, -7, -2],\n",
    "    [9, 10, -10, -18]\n",
    "]\n",
    "\n",
    "\n",
    "def checkDiagonallyDominance(x):\n",
    "    x = np.array(x)\n",
    "    diagonal = np.diag(np.abs(x))\n",
    "    sumwithoutdiagonal = np.sum(np.abs(x), axis=1) - diagonal\n",
    "\n",
    "    # printed = 0\n",
    "\n",
    "    # for i in range(len(x)):\n",
    "    #     print(f\"Diagonal {i+1} =\", {diagonal[i]})\n",
    "    #     print(\"Total Not Diagonal Value =\",end=\" \")\n",
    "    #     for j, el in enumerate(x[i]):\n",
    "    #         if j != i:\n",
    "    #             if printed != 0:\n",
    "    #                 print(\"+\", end=\" \")\n",
    "    #             print(f\"|{el}|\", end=\" \")\n",
    "    #             printed += 1\n",
    "    #     print(f\"= {sumwithoutdiagonal[i]}\")\n",
    "\n",
    "    #     if diagonal[i] > sumwithoutdiagonal[i]:\n",
    "    #         print(f\"{diagonal[i]} > {sumwithoutdiagonal[i]}\")\n",
    "    #     else :\n",
    "    #         print(f\"{diagonal[i]} < {sumwithoutdiagonal[i]}\")\n",
    "    #         return False\n",
    "    # return True\n",
    "\n",
    "    if np.all(diagonal > sumwithoutdiagonal):\n",
    "        return True\n",
    "    else:\n",
    "        return False\n",
    "    \n",
    "for i, x in enumerate(mX):\n",
    "    print(f\"Equation {i+1} array X\")\n",
    "    if checkDiagonallyDominance(x):\n",
    "        print(\"Diagonally Dominance\")\n",
    "    else:\n",
    "        print(\"Not Diagonally Dominance\")\n",
    "    print()\n",
    "    print()"
   ]
  },
  {
   "attachments": {},
   "cell_type": "markdown",
   "metadata": {},
   "source": [
    "no 2\n"
   ]
  },
  {
   "cell_type": "code",
   "execution_count": 8,
   "metadata": {},
   "outputs": [
    {
     "name": "stdout",
     "output_type": "stream",
     "text": [
      "Equation 1 array X\n",
      "iteration : 1 | X1 = 1.7, X2 = -0.575, X3 = -2.279166666666667\n",
      "iteration : 2 | X1 = 0.44749999999999995, X2 = 0.25145833333333334, X3 = -2.2748958333333333\n",
      "iteration : 3 | X1 = 0.2847708333333333, X2 = 0.2086406249999999, X3 = -2.1992439236111108\n",
      "iteration : 4 | X1 = 0.3387255208333334, X2 = 0.18430334201388865, X3 = -2.2050601779513888\n",
      "iteration : 5 | X1 = 0.34010322482638883, X2 = 0.18755589518229154, X3 = -2.207145689199942\n",
      "\n",
      "\n",
      "Equation 2 array X\n",
      "Not Diagonally Dominance\n",
      "\n",
      "\n",
      "Equation 3 array X\n",
      "iteration : 1 | X1 = 0.9, X2 = -0.8111111111111111, X3 = -0.16470588235294117\n",
      "iteration : 2 | X1 = 0.5438562091503268, X2 = -1.3286637618010166, X3 = 0.051241830065359546\n",
      "iteration : 3 | X1 = 0.2202955700798838, X2 = -1.3701088517711613, X3 = -0.12052560980819346\n",
      "iteration : 4 | X1 = 0.25110325705687736, X2 = -1.4058293186275828, X3 = -0.09774877089058819\n",
      "iteration : 5 | X1 = 0.2264099719533851, X2 = -1.4092562235346036, X3 = -0.10909667368188802\n",
      "\n",
      "\n"
     ]
    }
   ],
   "source": [
    "def gausseidel(x, y , epsilon, max):\n",
    "    x = np.array(x)\n",
    "    y = np.array(y)\n",
    "    diag = np.diag(x)\n",
    "    x = -x\n",
    "    np.fill_diagonal(x, 0)\n",
    "    xBefore = np.zeros(x.shape[0])\n",
    "    for i in range(max):\n",
    "        xNew = np.array(xBefore)\n",
    "        for j ,row in enumerate(x):\n",
    "            xNew[j] = (y[j] + np.dot(row, xNew)) / diag[j]\n",
    "\n",
    "        # euclidian distance\n",
    "        distance = np.sqrt(np.dot(xNew - xBefore, xNew - xBefore))\n",
    "        print(f\"iteration : {i+1} | X1 = {xNew[0]}, X2 = {xNew[1]}, X3 = {xNew[2]}\")\n",
    "        if distance < epsilon:\n",
    "            return True\n",
    "        \n",
    "        xBefore = xNew\n",
    "    return False\n",
    "\n",
    "\n",
    "for i, (x,y) in enumerate(zip(mX,mY)):\n",
    "    print(f\"Equation {i+1} array X\")\n",
    "    if(checkDiagonallyDominance(x)):\n",
    "        gausseidel(x,y,0.01456,5)\n",
    "    else:\n",
    "        print(\"Not Diagonally Dominance\")\n",
    "    print()\n",
    "    print()\n"
   ]
  },
  {
   "attachments": {},
   "cell_type": "markdown",
   "metadata": {},
   "source": [
    "no 3\n"
   ]
  },
  {
   "attachments": {},
   "cell_type": "markdown",
   "metadata": {},
   "source": [
    "𝛽=(𝐴^𝑇 𝐴)^−1 𝐴^𝑇 𝑌 ini rumus nya"
   ]
  },
  {
   "cell_type": "code",
   "execution_count": 35,
   "metadata": {},
   "outputs": [
    {
     "name": "stdout",
     "output_type": "stream",
     "text": [
      "[[ 6.13333333]\n",
      " [23.66666667]]\n"
     ]
    },
    {
     "data": {
      "image/png": "[encoded data removed]",
      "text/plain": [
       "<Figure size 640x480 with 1 Axes>"
      ]
     },
     "metadata": {},
     "output_type": "display_data"
    }
   ],
   "source": [
    "lx = [1, 5, 7, 2, 3, 9, 10, 4, 6, 8]\n",
    "ly = [34, 51, 80, 25, 90, 76, 100, 11, 45, 62]\n",
    "\n",
    "lx = np.array(lx)\n",
    "ly = np.array(ly)\n",
    "\n",
    "A = np.vstack([lx, np.ones(len(lx))]).T\n",
    "Y = np.vstack(ly)\n",
    "beta = np.dot(np.dot(np.linalg.inv(np.dot(A.T, A)), A.T), Y)\n",
    "print(beta)\n",
    "# hasilnnya\n",
    "# [[ 6.13333333] ini m\n",
    "#  [23.66666667]] ini c\n",
    "\n",
    "m = beta[0]\n",
    "c = beta[1]\n",
    "\n",
    "# y = mx + c\n",
    "y = m * lx + c\n",
    "\n",
    "# plotting\n",
    "plt.plot(lx, ly, 'go')\n",
    "plt.plot(lx, y, 'r')\n",
    "plt.show()"
   ]
  },
  {
   "attachments": {},
   "cell_type": "markdown",
   "metadata": {},
   "source": [
    "no 4\n"
   ]
  },
  {
   "cell_type": "code",
   "execution_count": 2,
   "metadata": {},
   "outputs": [
    {
     "name": "stdout",
     "output_type": "stream",
     "text": [
      "Max Iteration\n",
      "Root = 0.6903195287760319\n"
     ]
    },
    {
     "data": {
      "text/plain": [
       "True"
      ]
     },
     "execution_count": 2,
     "metadata": {},
     "output_type": "execute_result"
    }
   ],
   "source": [
    "from sympy import *\n",
    "\n",
    "x = Symbol('x')\n",
    "\n",
    "f1 = lambda x: 7*x**4 - 3*x**2 + x\n",
    "df1 = diff(f1(x), x)\n",
    "df1 = lambdify(x, df1, 'numpy')\n",
    "\n",
    "f2 = lambda x: 8*x**6 + 5*x**4 - 2\n",
    "df2 = diff(f2(x), x)\n",
    "df2 = lambdify(x, df2, 'numpy')\n",
    "\n",
    "\n",
    "#rumus x0 - (f(x0)/f'(x0))\n",
    "def newton_rhapson(f, df, x0, tolerance, max):\n",
    "    if max == 0:\n",
    "        print(\"Max Iteration\")\n",
    "        return False\n",
    "    if np.abs(f(x0)) < tolerance:\n",
    "        print(\"Root =\", x0)\n",
    "        return True\n",
    "    else:\n",
    "        return newton_rhapson(f, df, x0 - f(x0)/df(x0), tolerance, max-1)\n",
    "\n",
    "newton_rhapson(f1, df1, 1, 0.006541,5)\n",
    "newton_rhapson(f2, df2, 1, 0.006541,5)"
   ]
  },
  {
   "attachments": {},
   "cell_type": "markdown",
   "metadata": {},
   "source": [
    "no 5"
   ]
  },
  {
   "cell_type": "code",
   "execution_count": 15,
   "metadata": {},
   "outputs": [
    {
     "name": "stdout",
     "output_type": "stream",
     "text": [
      "leftRiemann:  645.1387652149571\n",
      "rightRiemann:  530.2422134908192\n",
      "midRiemann:  580.4556464297783\n",
      "trapezoid:  587.690489352888\n"
     ]
    }
   ],
   "source": [
    "def f(x):\n",
    "    return 3*x**4 - 7*x**2 + 5\n",
    "\n",
    "batasBawah = -4\n",
    "batasAtas = 3\n",
    "n = 30\n",
    "\n",
    "boxWidth = (batasAtas - batasBawah) / (n-1)\n",
    "x = np.linspace(batasBawah, batasAtas, n)\n",
    "\n",
    "#left riemnann sum\n",
    "xLeft = x[:-1]\n",
    "yLeft = f(xLeft)\n",
    "leftRiemannSum = boxWidth * np.sum(np.abs(yLeft))\n",
    "print(\"leftRiemann: \",leftRiemannSum)\n",
    "\n",
    "#rigth riemnann sum\n",
    "xRight = x[1:]\n",
    "yRight = f(xRight)\n",
    "rightRiemannSum = boxWidth * np.sum(np.abs(yRight))\n",
    "print(\"rightRiemann: \",rightRiemannSum)\n",
    "\n",
    "#mid riemnann sum\n",
    "xMid = (xLeft+xRight)/2\n",
    "yMid = f(xMid)\n",
    "midRiemannSum = boxWidth * np.sum(np.abs(yMid))\n",
    "print(\"midRiemann: \",midRiemannSum)\n",
    "\n",
    "#trpaizoid riemnann sum\n",
    "trapezoid = np.sum(np.abs(yLeft) + np.abs(yRight))/2 * boxWidth\n",
    "print(\"trapezoid: \",trapezoid)"
   ]
  }
 ],
 "metadata": {
  "kernelspec": {
   "display_name": "base",
   "language": "python",
   "name": "python3"
  },
  "language_info": {
   "codemirror_mode": {
    "name": "ipython",
    "version": 3
   },
   "file_extension": ".py",
   "mimetype": "text/x-python",
   "name": "python",
   "nbconvert_exporter": "python",
   "pygments_lexer": "ipython3",
   "version": "3.9.13"
  },
  "orig_nbformat": 4,
  "vscode": {
   "interpreter": {
    "hash": "ef3d9bf360ed0cdd1f74dde7c10b1bf3c7e2e2c99133ad6d033c72cf575fdf12"
   }
  }
 },
 "nbformat": 4,
 "nbformat_minor": 2
}
